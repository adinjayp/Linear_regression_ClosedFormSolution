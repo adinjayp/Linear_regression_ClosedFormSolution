{
 "cells": [
  {
   "cell_type": "code",
   "execution_count": 20,
   "metadata": {},
   "outputs": [],
   "source": [
    "#importing the libraries\n",
    "import numpy as np \n",
    "from sklearn.model_selection import train_test_split\n",
    "from sklearn.datasets import fetch_california_housing"
   ]
  },
  {
   "cell_type": "code",
   "execution_count": 21,
   "metadata": {},
   "outputs": [],
   "source": [
    "class linear_regression:    #class for linear regression\n",
    "    def __init__(self, X, y, reg, lamda): #initializing the class\n",
    "        self.X = X \n",
    "        self.y = y  \n",
    "        self.lamda = lamda\n",
    "        self.reg = reg\n",
    "        \n",
    "    def splitData(self): #splitting the data into training and testing\n",
    "        X_train, X_test, y_train, y_test = train_test_split(self.X, self.y, test_size=0.2, random_state=0)\n",
    "        return X_train, X_test, y_train, y_test\n",
    "\n",
    "    def add_X0(self, X): #adding the bias term to the input features\n",
    "        return np.column_stack([np.ones([X.shape[0],1]),X])\n",
    "    \n",
    "    def normalize_data(self, X): #normalizing the input features\n",
    "        mean = np.mean(X, axis=0)\n",
    "        std = np.std(X, axis=0)\n",
    "        X_normalized = (X - mean) / std\n",
    "        X_normalized = self.add_X0(X_normalized)\n",
    "        return X_normalized, mean, std\n",
    "\n",
    "    def closed_form_solution(self, X, y, reg): #solving the linear regression using closed form solution\n",
    "        if reg == False:\n",
    "            return np.linalg.inv(X.T.dot(X)).dot(X.T).dot(y)\n",
    "        else:\n",
    "            return np.linalg.inv(X.T.dot(X) - (self.lamda) * np.eye(X.shape[1])).dot(X.T).dot(y)\n",
    "    \n",
    "    def predict(self, X): #predicting the output using the trained model\n",
    "        return X.dot(self.w)\n",
    "\n",
    "    def rmse(self, X, y): #calculating the root mean square error\n",
    "        y_hat = self.predict(X)\n",
    "        return np.sqrt(((y_hat - y) ** 2).mean())\n",
    "\n",
    "    def sse(self, X, y): #calculating the sum of square error\n",
    "        y_hat = self.predict(X)\n",
    "        return ((y_hat - y) ** 2).sum()\n",
    "        \n",
    "    def fit(self): #fitting the model\n",
    "        X_train, X_test, y_train, y_test = self.splitData()\n",
    "        X_train_normalized, self.train_mean, self.train_std = self.normalize_data(X_train)\n",
    "        X_test_normalized = (X_test - self.train_mean) / self.train_std\n",
    "        X_test_normalized = self.add_X0(X_test_normalized)\n",
    "        \n",
    "        self.type_of_model = \"Solving using closed-form \" + (\"Regularised\" if self.reg else \"Not-Regularised\")\n",
    "        print(self.type_of_model)\n",
    "        \n",
    "        self.w = self.closed_form_solution(X_train_normalized, y_train, self.reg)\n",
    "        test_rmse = self.rmse(X_test_normalized, y_test)\n",
    "        test_sse = self.sse(X_test_normalized, y_test)\n",
    "        print(\"Root Mean Square Error: \", test_rmse)\n",
    "        print(\"Sum of Square Error: \", test_sse)\n"
   ]
  },
  {
   "cell_type": "code",
   "execution_count": 15,
   "metadata": {},
   "outputs": [
    {
     "name": "stdout",
     "output_type": "stream",
     "text": [
      "Solving using closed-form Not-Regularised\n",
      "Root Mean Square Error:  0.7273129773603114\n",
      "Sum of Square Error:  2183.646641527584\n"
     ]
    }
   ],
   "source": [
    "# Fetch the data\n",
    "cal_housing = fetch_california_housing()\n",
    "\n",
    "# Create an instance of linear_regression class\n",
    "lr = linear_regression(cal_housing.data, cal_housing.target, reg=False, lamda=0.0005)\n",
    "\n",
    "# Train the model\n",
    "lr.fit()"
   ]
  },
  {
   "cell_type": "code",
   "execution_count": 17,
   "metadata": {},
   "outputs": [
    {
     "name": "stdout",
     "output_type": "stream",
     "text": [
      "Solving using closed-form Regularised\n",
      "Root Mean Square Error:  0.7273129741935046\n",
      "Sum of Square Error:  2183.646622511872\n"
     ]
    }
   ],
   "source": [
    "lr_reg = linear_regression(cal_housing.data, cal_housing.target, reg=True, lamda=0.0005)\n",
    "\n",
    "# Train the model\n",
    "\n",
    "lr_reg.fit()"
   ]
  },
  {
   "cell_type": "markdown",
   "metadata": {},
   "source": [
    "Validating the model using the Sklearn Library"
   ]
  },
  {
   "cell_type": "code",
   "execution_count": 18,
   "metadata": {},
   "outputs": [
    {
     "name": "stdout",
     "output_type": "stream",
     "text": [
      "Root Mean Square Error (Test):  0.7273129773603114\n",
      "Root Mean Square Error (Cross-Validation):  0.7471881769465138\n"
     ]
    }
   ],
   "source": [
    "import numpy as np\n",
    "from sklearn.datasets import fetch_california_housing\n",
    "from sklearn.model_selection import train_test_split, cross_val_score\n",
    "from sklearn.linear_model import LinearRegression\n",
    "from sklearn.preprocessing import StandardScaler\n",
    "from sklearn.pipeline import make_pipeline\n",
    "\n",
    "# Loading the California Housing dataset\n",
    "cal_housing = fetch_california_housing()\n",
    "\n",
    "# Spliting the data into training and testing sets\n",
    "X_train, X_test, y_train, y_test = train_test_split(cal_housing.data, cal_housing.target, test_size=0.2, random_state=0)\n",
    "\n",
    "# Creating a pipeline with feature scaling and linear regression\n",
    "model = make_pipeline(StandardScaler(), LinearRegression())\n",
    "\n",
    "# Training the model on the training data\n",
    "model.fit(X_train, y_train)\n",
    "\n",
    "# Evaluating the model on the testing data\n",
    "test_rmse = np.sqrt(((model.predict(X_test) - y_test) ** 2).mean())\n",
    "print(\"Root Mean Square Error (Test): \", test_rmse)\n",
    "\n",
    "# Performing cross-validation to get a more robust estimate of model performance\n",
    "cv_scores = cross_val_score(model, cal_housing.data, cal_housing.target, cv=5, scoring='neg_mean_squared_error')\n",
    "cv_rmse = np.sqrt(-cv_scores.mean())\n",
    "print(\"Root Mean Square Error (Cross-Validation): \", cv_rmse)\n"
   ]
  }
 ],
 "metadata": {
  "kernelspec": {
   "display_name": ".projectenv",
   "language": "python",
   "name": "python3"
  },
  "language_info": {
   "codemirror_mode": {
    "name": "ipython",
    "version": 3
   },
   "file_extension": ".py",
   "mimetype": "text/x-python",
   "name": "python",
   "nbconvert_exporter": "python",
   "pygments_lexer": "ipython3",
   "version": "3.12.2"
  }
 },
 "nbformat": 4,
 "nbformat_minor": 2
}
